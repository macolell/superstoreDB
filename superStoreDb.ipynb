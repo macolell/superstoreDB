{
 "cells": [
  {
   "cell_type": "code",
   "execution_count": 351,
   "metadata": {},
   "outputs": [],
   "source": [
    "import numpy as np\n",
    "import pandas as pd\n",
    "import sqlite3"
   ]
  },
  {
   "cell_type": "markdown",
   "metadata": {},
   "source": [
    "Import data from the local SQLite database included in the GitHub\n",
    "Three Tables: ORDER_DETAIL, ITEM_MASTER, CUSOTMER_MASTER"
   ]
  },
  {
   "cell_type": "code",
   "execution_count": 352,
   "metadata": {},
   "outputs": [
    {
     "data": {
      "text/plain": [
       "(('CUSTOMER_ID', None, None, None, None, None, None),\n",
       " ('CUSTOMER_NAME', None, None, None, None, None, None),\n",
       " ('SEGMENT', None, None, None, None, None, None),\n",
       " ('SHIP_LOCATION_ID', None, None, None, None, None, None),\n",
       " ('COUNTRY', None, None, None, None, None, None),\n",
       " ('CITY', None, None, None, None, None, None),\n",
       " ('STATE', None, None, None, None, None, None),\n",
       " ('REGION', None, None, None, None, None, None))"
      ]
     },
     "execution_count": 352,
     "metadata": {},
     "output_type": "execute_result"
    }
   ],
   "source": [
    "#readin data from db\n",
    "#establish connection\n",
    "connection = sqlite3.connect('/Users/michaelcolellajensen/Downloads/pythonsqlite_PHI_superstore.db')\n",
    "cursor = connection.cursor()\n",
    "\n",
    "#test connection\n",
    "cursor.execute('SELECT * FROM CUSTOMER_MASTER LIMIT 1')\n",
    "cursor.description"
   ]
  },
  {
   "cell_type": "code",
   "execution_count": 353,
   "metadata": {},
   "outputs": [
    {
     "data": {
      "text/plain": [
       "(('ORDER_ID', None, None, None, None, None, None),\n",
       " ('ORDER_DATE', None, None, None, None, None, None),\n",
       " ('SHIP_DATE', None, None, None, None, None, None),\n",
       " ('SHIP_MODE', None, None, None, None, None, None),\n",
       " ('CUSTOMER_ID', None, None, None, None, None, None),\n",
       " ('SHIP_LOCATION_ID', None, None, None, None, None, None),\n",
       " ('PRODUCT_ID', None, None, None, None, None, None),\n",
       " ('SALES', None, None, None, None, None, None),\n",
       " ('QUANTITY', None, None, None, None, None, None),\n",
       " ('DISCOUNT', None, None, None, None, None, None),\n",
       " ('PROFIT', None, None, None, None, None, None))"
      ]
     },
     "execution_count": 353,
     "metadata": {},
     "output_type": "execute_result"
    }
   ],
   "source": [
    "#See columns for each table \n",
    "cursor.execute('SELECT * FROM ORDER_DETAIL LIMIT 1')\n",
    "cursor.description"
   ]
  },
  {
   "cell_type": "code",
   "execution_count": 354,
   "metadata": {},
   "outputs": [
    {
     "data": {
      "text/plain": [
       "(('PRODUCT_ID', None, None, None, None, None, None),\n",
       " ('PRODUCT_NAME', None, None, None, None, None, None),\n",
       " ('CATEGORY', None, None, None, None, None, None),\n",
       " ('SUB_CATEGORY', None, None, None, None, None, None))"
      ]
     },
     "execution_count": 354,
     "metadata": {},
     "output_type": "execute_result"
    }
   ],
   "source": [
    "cursor.execute('SELECT * FROM ITEM_MASTER LIMIT 1')\n",
    "cursor.description"
   ]
  },
  {
   "cell_type": "markdown",
   "metadata": {},
   "source": [
    "Join the three tables together using SQL"
   ]
  },
  {
   "cell_type": "code",
   "execution_count": 355,
   "metadata": {},
   "outputs": [
    {
     "name": "stdout",
     "output_type": "stream",
     "text": [
      "('CG-12520', 'Claire Gute', 'Consumer', 42420.0, 'United States', 'Henderson', 'Kentucky', 'South', 'CA-2018-164098', '2018-01-26 00:00:00', '2018-01-27 00:00:00', 'First Class', 'CG-12520', 77070.0, 'OFF-ST-10000615', 18.16, 2, 0.2, 1.8160000000000016, 'OFF-ST-10000615', 'SimpliFile Personal File, Black Granite, 15w x 6-15/16d x 11-1/4h', 'Office Supplies', 'Storage')\n",
      "('CG-12520', 'Claire Gute', 'Consumer', 42420.0, 'United States', 'Henderson', 'Kentucky', 'South', 'US-2016-123918', '2016-10-15 00:00:00', '2016-10-15 00:00:00', 'Same Day', 'CG-12520', 75217.0, 'FUR-FU-10004952', 131.376, 6, 0.6, -95.24760000000002, 'FUR-FU-10004952', 'C-Line Cubicle Keepers Polyproplyene Holder w/Velcro Back, 8-1/2x11, 25/Bx', 'Furniture', 'Furnishings')\n",
      "('CG-12520', 'Claire Gute', 'Consumer', 42420.0, 'United States', 'Henderson', 'Kentucky', 'South', 'US-2016-123918', '2016-10-15 00:00:00', '2016-10-15 00:00:00', 'Same Day', 'CG-12520', 75217.0, 'OFF-PA-10003001', 5.344, 1, 0.2, 1.8703999999999998, 'OFF-PA-10003001', 'Xerox 1986', 'Office Supplies', 'Paper')\n",
      "('DV-13045', 'Darrin Van Huff', 'Corporate', 90036.0, 'United States', 'Los Angeles', 'California', 'West', 'CA-2017-106656', '2017-09-23 00:00:00', '2017-09-26 00:00:00', 'First Class', 'DV-13045', 92037.0, 'OFF-EN-10001509', 4.08, 2, 0.0, 1.9175999999999997, 'OFF-EN-10001509', 'Poly String Tie Envelopes', 'Office Supplies', 'Envelopes')\n",
      "('DV-13045', 'Darrin Van Huff', 'Corporate', 90036.0, 'United States', 'Los Angeles', 'California', 'West', 'CA-2017-106656', '2017-09-23 00:00:00', '2017-09-26 00:00:00', 'First Class', 'DV-13045', 92037.0, 'OFF-LA-10003148', 18.9, 3, 0.0, 8.693999999999999, 'OFF-LA-10003148', 'Avery 51', 'Office Supplies', 'Labels')\n"
     ]
    }
   ],
   "source": [
    "#joining tables using sql statements \n",
    "query = '''SELECT * \n",
    "FROM CUSTOMER_MASTER\n",
    "JOIN ORDER_DETAIL\n",
    "ON CUSTOMER_MASTER.CUSTOMER_ID = ORDER_DETAIL.CUSTOMER_ID\n",
    "JOIN ITEM_MASTER\n",
    "ON ORDER_DETAIL.PRODUCT_ID = ITEM_MASTER.PRODUCT_ID;\n",
    "'''\n",
    "cursor.execute(query)\n",
    "\n",
    "#sanity check that all columns are included\n",
    "results = cursor.fetchmany(5)\n",
    "for record in results:\n",
    "    print(record)"
   ]
  },
  {
   "cell_type": "markdown",
   "metadata": {},
   "source": [
    "Use a Python data analysis library to report descriptive statistics by answering the following questions\n",
    "\n",
    "Please type out any assumptions that you made in answering the questions\n",
    "My first asumption is that customer IDs are unique to each customer and no customer has multiple IDs\n"
   ]
  },
  {
   "cell_type": "markdown",
   "metadata": {},
   "source": [
    "1. How many distinct customers exist on the order detail?\n",
    "793"
   ]
  },
  {
   "cell_type": "code",
   "execution_count": 356,
   "metadata": {},
   "outputs": [
    {
     "name": "stdout",
     "output_type": "stream",
     "text": [
      "There are 793 unique cusotmer IDs\n"
     ]
    }
   ],
   "source": [
    "#create a pandas df object to work with from sql query\n",
    "order_detail_query = '''\n",
    "SELECT *\n",
    "FROM ORDER_DETAIL\n",
    "'''\n",
    "order_detail_df = pd.read_sql_query(order_detail_query, connection)\n",
    "unique_customers = order_detail_df['CUSTOMER_ID'].nunique()\n",
    "print(f'There are {unique_customers} unique cusotmer IDs')"
   ]
  },
  {
   "cell_type": "markdown",
   "metadata": {},
   "source": [
    "2. What is the average number of unique items ordered by all customers? \n",
    "About 12.5 items per customer"
   ]
  },
  {
   "cell_type": "code",
   "execution_count": 357,
   "metadata": {},
   "outputs": [
    {
     "name": "stdout",
     "output_type": "stream",
     "text": [
      "The average number of items purchased is 12.54 per customer\n"
     ]
    }
   ],
   "source": [
    "#use group by to get a count of unique product ids by customer \n",
    "unique_items_by_customer = order_detail_df.groupby('CUSTOMER_ID')['PRODUCT_ID'].nunique()\n",
    "#average them across customers \n",
    "avg_items_purchased = unique_items_by_customer.mean().round(2)\n",
    "print(f'The average number of items purchased is {avg_items_purchased} per customer')"
   ]
  },
  {
   "cell_type": "markdown",
   "metadata": {},
   "source": [
    "3. For orders shipped in 2018, what percent of sales dollars came from the item category \"Technology\"?"
   ]
  },
  {
   "cell_type": "code",
   "execution_count": 358,
   "metadata": {},
   "outputs": [
    {
     "name": "stdout",
     "output_type": "stream",
     "text": [
      "Total sales for 2018 was $262655.94 for the Technology catergory\n"
     ]
    }
   ],
   "source": [
    "#read in a df object of joined tables, ORDERS and ITEMS\n",
    "#filtered query by date and category\n",
    "order_item_query = '''\n",
    "SELECT * \n",
    "FROM ORDER_DETAIL\n",
    "JOIN ITEM_MASTER\n",
    "ON ORDER_DETAIL.PRODUCT_ID = ITEM_MASTER.PRODUCT_ID\n",
    "WHERE SHIP_DATE > \"2017/12/31\"\n",
    "AND SHIP_DATE < \"2019/01/01\"\n",
    "AND CATEGORY = \"Technology\"\n",
    "'''\n",
    "#sum sales for results \n",
    "order_item_2018 = pd.read_sql_query(order_item_query, connection)\n",
    "sales_total = order_item_2018['SALES'].sum().round(2)\n",
    "print(f'Total sales for 2018 was ${sales_total} for the Technology catergory')"
   ]
  },
  {
   "cell_type": "markdown",
   "metadata": {},
   "source": [
    "4. How many orders did we ship by month? Plot this."
   ]
  },
  {
   "cell_type": "code",
   "execution_count": 359,
   "metadata": {},
   "outputs": [
    {
     "name": "stdout",
     "output_type": "stream",
     "text": [
      "    ORDER_ID\n",
      "0         79\n",
      "1         46\n",
      "2        157\n",
      "3        135\n",
      "4        122\n",
      "5        135\n",
      "6        143\n",
      "7        153\n",
      "8        268\n",
      "9        159\n",
      "10       318\n",
      "11       278\n",
      "12        58\n",
      "13        64\n",
      "14       138\n",
      "15       160\n",
      "16       146\n",
      "17       138\n",
      "18       140\n",
      "19       159\n",
      "20       293\n",
      "21       166\n",
      "22       324\n",
      "23       316\n",
      "24        89\n",
      "25        83\n",
      "26       163\n",
      "27       170\n",
      "28       225\n",
      "29       199\n",
      "30       201\n",
      "31       176\n",
      "32       363\n",
      "33       196\n",
      "34       370\n",
      "35       352\n",
      "36       155\n",
      "37       107\n",
      "38       238\n",
      "39       203\n",
      "40       242\n",
      "41       245\n",
      "42       226\n",
      "43       218\n",
      "44       459\n",
      "45       298\n",
      "46       459\n",
      "47       462\n"
     ]
    }
   ],
   "source": [
    "import matplotlib.pyplot as plt\n",
    "import seaborn as sns\n",
    "#group orders and count the number of Order Ids by month and year to get the number of orders.\n",
    "order_detail_df['ORDER_DATE'] = pd.to_datetime(order_detail_df['ORDER_DATE'])\n",
    "orders_by_month = order_detail_df.groupby([order_detail_df.ORDER_DATE.dt.year, \n",
    "                                           order_detail_df.ORDER_DATE.dt.month],\n",
    "                                          as_index=False)['ORDER_ID'].count()"
   ]
  },
  {
   "cell_type": "code",
   "execution_count": 360,
   "metadata": {},
   "outputs": [
    {
     "data": {
      "image/png": "[encoded data removed]",
      "text/plain": [
       "<Figure size 432x288 with 1 Axes>"
      ]
     },
     "metadata": {
      "needs_background": "light"
     },
     "output_type": "display_data"
    }
   ],
   "source": [
    "#plot the grouped table using the index of month number and count of orders\n",
    "#adjusted x axis to reflect the date instead of index \n",
    "sns.lineplot(x='index',\n",
    "            y='ORDER_ID',\n",
    "            data = orders_by_month.reset_index())\n",
    "plt.title('Number of Orders by Month')\n",
    "plt.xlabel('Month')\n",
    "plt.ylabel('Order Total')\n",
    "plt.xticks([0,12, 24, 36, 47], \n",
    "           ['Jan 2015', 'Jan 2016', 'Jan 2017', 'Jan 2018', 'Dec 2018'])\n",
    "plt.show()"
   ]
  },
  {
   "cell_type": "markdown",
   "metadata": {},
   "source": [
    "5. What item was the most profitable in the calendar fourth quarter (combine all years)? \n",
    "Canon imageCLASS 2200 Advanced Copier"
   ]
  },
  {
   "cell_type": "code",
   "execution_count": 361,
   "metadata": {},
   "outputs": [
    {
     "name": "stdout",
     "output_type": "stream",
     "text": [
      "The top product of 4th quater by profit is the 1612    Canon imageCLASS 2200 Advanced Copier\n",
      "Name: PRODUCT_NAME, dtype: object.\n"
     ]
    }
   ],
   "source": [
    "#filter for 4th quater sales \n",
    "orders_details_q4 = order_detail_df[(order_detail_df['ORDER_DATE'].dt.month == 12) |\n",
    "                                    (order_detail_df['ORDER_DATE'].dt.month == 11) |\n",
    "                                    (order_detail_df['ORDER_DATE'].dt.month == 10)]\n",
    "#group the order_detail table by product id and sum profits \n",
    "orders_by_product = orders_details_q4.groupby('PRODUCT_ID')['PROFIT']\\\n",
    "    .sum().sort_values(ascending=False).reset_index()\n",
    "top_product_id = orders_by_product['PRODUCT_ID'][0]\n",
    "\n",
    "#lookup product details in SQL items_master DB \n",
    "item_master_query = '''\n",
    "SELECT * \n",
    "FROM ITEM_MASTER'''\n",
    "item_master_df = pd.read_sql_query(item_master_query, connection)\n",
    "\n",
    "#locate the item and print the results\n",
    "top_product = item_master_df.PRODUCT_NAME[item_master_df['PRODUCT_ID'] == top_product_id]\n",
    "print(f'The top product of 4th quater by profit is the {top_product}.')"
   ]
  },
  {
   "cell_type": "markdown",
   "metadata": {},
   "source": [
    "Use an interpretable forecasting algorithm of your choice to predict weekly sales by Category for Calendar 2018 Q4, assuming the model is retrained at the start of each calendar month.\n",
    "\n",
    "Model Selection: SARIMA model for forecasting seasonal time series data\n",
    "\n",
    "Assumptions: \n",
    "Most data preprocessing is done.\n",
    "Checking for nulls or NAN values, removing outliers or incorrect data, and normalizing are all complete. \n",
    "Assuming that the sales cycle is season every 52 weeks from the graphed data.\n",
    "\n",
    "Future Reasearch:\n",
    "Explore different levels of seasonal differencing if there is a trend in the seasonal data.\n",
    "Further normalize data sources for better results.\n",
    "Attempt to use xcog data from external or related sources to add features and improve model performance. "
   ]
  },
  {
   "cell_type": "code",
   "execution_count": 373,
   "metadata": {},
   "outputs": [
    {
     "name": "stdout",
     "output_type": "stream",
     "text": [
      "         ORDER_ID           ORDER_DATE            SHIP_DATE       SHIP_MODE  \\\n",
      "0  CA-2015-103800  2015-01-03 00:00:00  2015-01-07 00:00:00  Standard Class   \n",
      "1  CA-2015-112326  2015-01-04 00:00:00  2015-01-08 00:00:00  Standard Class   \n",
      "2  CA-2015-112326  2015-01-04 00:00:00  2015-01-08 00:00:00  Standard Class   \n",
      "3  CA-2015-112326  2015-01-04 00:00:00  2015-01-08 00:00:00  Standard Class   \n",
      "4  CA-2015-141817  2015-01-05 00:00:00  2015-01-12 00:00:00  Standard Class   \n",
      "\n",
      "  CUSTOMER_ID  SHIP_LOCATION_ID       PRODUCT_ID    SALES  QUANTITY  DISCOUNT  \\\n",
      "0    DP-13000           77095.0  OFF-PA-10000174   16.448         2       0.2   \n",
      "1    PO-19195           60540.0  OFF-LA-10003223   11.784         3       0.2   \n",
      "2    PO-19195           60540.0  OFF-ST-10002743  272.736         3       0.2   \n",
      "3    PO-19195           60540.0  OFF-BI-10004094    3.540         2       0.8   \n",
      "4    MB-18085           19143.0  OFF-AR-10003478   19.536         3       0.2   \n",
      "\n",
      "    PROFIT       PRODUCT_ID  \\\n",
      "0   5.5512  OFF-PA-10000174   \n",
      "1   4.2717  OFF-LA-10003223   \n",
      "2 -64.7748  OFF-ST-10002743   \n",
      "3  -5.4870  OFF-BI-10004094   \n",
      "4   4.8840  OFF-AR-10003478   \n",
      "\n",
      "                                        PRODUCT_NAME         CATEGORY  \\\n",
      "0  Message Book, Wirebound, Four 5 1/2\" X 4\" Form...  Office Supplies   \n",
      "1                                          Avery 508  Office Supplies   \n",
      "2                      SAFCO Boltless Steel Shelving  Office Supplies   \n",
      "3         GBC Standard Plastic Binding Systems Combs  Office Supplies   \n",
      "4  Avery Hi-Liter EverBold Pen Style Fluorescent ...  Office Supplies   \n",
      "\n",
      "  SUB_CATEGORY  \n",
      "0        Paper  \n",
      "1       Labels  \n",
      "2      Storage  \n",
      "3      Binders  \n",
      "4          Art  \n"
     ]
    }
   ],
   "source": [
    "#read in merged date from order_details and items_master\n",
    "order_items_query = '''\n",
    "SELECT * \n",
    "FROM ORDER_DETAIL\n",
    "JOIN ITEM_MASTER\n",
    "ON ORDER_DETAIL.PRODUCT_ID = ITEM_MASTER.PRODUCT_ID\n",
    "ORDER BY ORDER_DATE'''\n",
    "order_items_df = pd.read_sql_query(order_items_query, \n",
    "                                   connection, \n",
    "                                   parse_dates=True)\n",
    "print(order_items_df.head())\n",
    "order_items_df['CATEGORY'] = order_items_df['CATEGORY'].str.lower()"
   ]
  },
  {
   "cell_type": "code",
   "execution_count": 374,
   "metadata": {},
   "outputs": [
    {
     "name": "stdout",
     "output_type": "stream",
     "text": [
      "technology\n"
     ]
    }
   ],
   "source": [
    "#accept the input from the user for the category we want to forcast \n",
    "category = input('What product category do you want to forcast?')\n",
    "category = category.lower()"
   ]
  },
  {
   "cell_type": "code",
   "execution_count": 375,
   "metadata": {},
   "outputs": [
    {
     "name": "stdout",
     "output_type": "stream",
     "text": [
      "(208, 2)\n"
     ]
    },
    {
     "name": "stderr",
     "output_type": "stream",
     "text": [
      "/var/folders/t_/rcfcs8g56jn7trwnsvmdyh_r0000gn/T/ipykernel_39785/3039476115.py:4: SettingWithCopyWarning: \n",
      "A value is trying to be set on a copy of a slice from a DataFrame.\n",
      "Try using .loc[row_indexer,col_indexer] = value instead\n",
      "\n",
      "See the caveats in the documentation: https://pandas.pydata.org/pandas-docs/stable/user_guide/indexing.html#returning-a-view-versus-a-copy\n",
      "  order_items_filtered['ORDER_WEEK'] = pd.to_datetime(\n"
     ]
    }
   ],
   "source": [
    "#modeling prep \n",
    "#group order_details by week and by category\n",
    "order_items_filtered = order_items_df[order_items_df['CATEGORY'] == category]\n",
    "order_items_filtered['ORDER_WEEK'] = pd.to_datetime(\n",
    "    order_items_filtered['ORDER_DATE']) - pd.to_timedelta(\n",
    "        7, unit='d'\n",
    "    )\n",
    "#get the weekly sales totals \n",
    "order_detail_weekly = order_items_filtered.groupby([pd.Grouper(key='ORDER_WEEK',\n",
    "                                                               freq='W')])['SALES'].sum().reset_index()\n",
    "order_detail_weekly.set_index('ORDER_WEEK')\n",
    "print(order_detail_weekly.shape)"
   ]
  },
  {
   "cell_type": "code",
   "execution_count": 376,
   "metadata": {},
   "outputs": [
    {
     "name": "stdout",
     "output_type": "stream",
     "text": [
      "2.180710734976444e-22\n"
     ]
    },
    {
     "data": {
      "image/png": "[encoded data removed]",
      "text/plain": [
       "<Figure size 432x288 with 1 Axes>"
      ]
     },
     "metadata": {
      "needs_background": "light"
     },
     "output_type": "display_data"
    }
   ],
   "source": [
    "#check for stationarity no trends, consitant variance\n",
    "#use aughmented dicky fuller test\n",
    "from statsmodels.tsa.stattools import adfuller\n",
    "results = adfuller(order_detail_weekly['SALES'])\n",
    "#check the results object [0] is t stat more neg is more stationary \n",
    "# [1] is the p value if below 0.05 then reject null and data is stationarity \n",
    "print(results[1])\n",
    "#passes as stationary, no need for differencing \n",
    "sns.lineplot(data=order_detail_weekly)\n",
    "plt.title(f'{category} Sales')\n",
    "plt.show()\n",
    "#even though data is stationary, we can see a seasonal trend"
   ]
  },
  {
   "cell_type": "code",
   "execution_count": 383,
   "metadata": {},
   "outputs": [
    {
     "name": "stdout",
     "output_type": "stream",
     "text": [
      "Performing stepwise search to minimize aic\n",
      " ARIMA(1,0,1)(1,1,1)[51] intercept   : AIC=3074.793, Time=12.43 sec\n",
      " ARIMA(0,0,0)(0,1,0)[51] intercept   : AIC=3139.761, Time=0.10 sec\n",
      " ARIMA(1,0,0)(1,1,0)[51] intercept   : AIC=3094.078, Time=1.47 sec\n",
      " ARIMA(0,0,1)(0,1,1)[51] intercept   : AIC=inf, Time=4.96 sec\n",
      " ARIMA(0,0,0)(0,1,0)[51]             : AIC=3140.272, Time=0.16 sec\n",
      " ARIMA(1,0,1)(0,1,1)[51] intercept   : AIC=inf, Time=11.41 sec\n",
      " ARIMA(1,0,1)(1,1,0)[51] intercept   : AIC=3092.350, Time=4.98 sec\n",
      " ARIMA(1,0,1)(2,1,1)[51] intercept   : AIC=inf, Time=44.59 sec\n",
      " ARIMA(1,0,1)(1,1,2)[51] intercept   : AIC=inf, Time=42.67 sec\n",
      " ARIMA(1,0,1)(0,1,0)[51] intercept   : AIC=3140.570, Time=0.71 sec\n",
      " ARIMA(1,0,1)(0,1,2)[51] intercept   : AIC=3092.219, Time=15.74 sec\n",
      " ARIMA(1,0,1)(2,1,0)[51] intercept   : AIC=3091.072, Time=17.06 sec\n",
      " ARIMA(1,0,1)(2,1,2)[51] intercept   : AIC=inf, Time=45.53 sec\n",
      " ARIMA(0,0,1)(1,1,1)[51] intercept   : AIC=3094.456, Time=2.61 sec\n",
      " ARIMA(1,0,0)(1,1,1)[51] intercept   : AIC=3093.111, Time=2.64 sec\n",
      " ARIMA(2,0,1)(1,1,1)[51] intercept   : AIC=3075.036, Time=12.26 sec\n",
      " ARIMA(1,0,2)(1,1,1)[51] intercept   : AIC=3074.568, Time=16.15 sec\n",
      " ARIMA(1,0,2)(0,1,1)[51] intercept   : AIC=inf, Time=12.59 sec\n",
      " ARIMA(1,0,2)(1,1,0)[51] intercept   : AIC=3093.688, Time=362.20 sec\n",
      " ARIMA(1,0,2)(2,1,1)[51] intercept   : AIC=3094.298, Time=29.02 sec\n",
      " ARIMA(1,0,2)(1,1,2)[51] intercept   : AIC=inf, Time=39.46 sec\n",
      " ARIMA(1,0,2)(0,1,0)[51] intercept   : AIC=3141.945, Time=0.72 sec\n",
      " ARIMA(1,0,2)(0,1,2)[51] intercept   : AIC=inf, Time=33.05 sec\n",
      " ARIMA(1,0,2)(2,1,0)[51] intercept   : AIC=3075.080, Time=93.47 sec\n",
      " ARIMA(1,0,2)(2,1,2)[51] intercept   : AIC=inf, Time=43.79 sec\n",
      " ARIMA(0,0,2)(1,1,1)[51] intercept   : AIC=3075.245, Time=13.82 sec\n",
      " ARIMA(2,0,2)(1,1,1)[51] intercept   : AIC=3093.499, Time=14.93 sec\n",
      " ARIMA(1,0,3)(1,1,1)[51] intercept   : AIC=3085.003, Time=7.52 sec\n",
      " ARIMA(0,0,3)(1,1,1)[51] intercept   : AIC=3089.916, Time=4.24 sec\n",
      " ARIMA(2,0,3)(1,1,1)[51] intercept   : AIC=3086.072, Time=12.88 sec\n",
      " ARIMA(1,0,2)(1,1,1)[51]             : AIC=inf, Time=21.58 sec\n",
      "\n",
      "Best model:  ARIMA(1,0,2)(1,1,1)[51] intercept\n",
      "Total fit time: 924.859 seconds\n"
     ]
    }
   ],
   "source": [
    "#using SARIMAX model for predictions given seasonality of data \n",
    "import pmdarima as pm \n",
    "from statsmodels.tsa.statespace.sarimax import SARIMAX\n",
    "#using pmd package for order selection\n",
    "#fill in the args for potential ordering solutions and use stepwise for smarter search \n",
    "results_object = pm.auto_arima(order_detail_weekly['SALES'],\n",
    "                        d=0,\n",
    "                        start_p = 1,\n",
    "                        start_q = 1,\n",
    "                        max_p = 3,\n",
    "                        max_q = 3,\n",
    "                        seasonal=True,\n",
    "                        m=51,\n",
    "                        D=1,\n",
    "                        start_P = 1,\n",
    "                        start_Q = 1,\n",
    "                        max_P = 2,\n",
    "                        max_Q = 2,\n",
    "                        information_criterion = 'aic',\n",
    "                        trace = True,\n",
    "                        error_action = 'ignore',\n",
    "                        stepwise=True)"
   ]
  },
  {
   "cell_type": "code",
   "execution_count": 384,
   "metadata": {},
   "outputs": [
    {
     "data": {
      "image/png": "[encoded data removed]",
      "text/plain": [
       "<Figure size 432x288 with 1 Axes>"
      ]
     },
     "metadata": {
      "needs_background": "light"
     },
     "output_type": "display_data"
    }
   ],
   "source": [
    "#best model by aic is SARIMA(1,0,2)(1,1,0=1)AIC=3091\n",
    "#use the predict method to predict the last 12 period (Q4)\n",
    "forecast = results_object.predict(n_periods=12)\n",
    "#plot the forecast\n",
    "plt.figure()\n",
    "plt.plot(order_detail_weekly.ORDER_WEEK[-12:],\n",
    "         forecast,\n",
    "         color='red')\n",
    "plt.plot(order_detail_weekly.ORDER_WEEK[-12:],\n",
    "         order_detail_weekly.SALES[-12:],\n",
    "         color ='blue')\n",
    "plt.show()"
   ]
  },
  {
   "cell_type": "code",
   "execution_count": 385,
   "metadata": {},
   "outputs": [
    {
     "name": "stdout",
     "output_type": "stream",
     "text": [
      "The mean absolute error of the model is 3004.4040806328658\n"
     ]
    },
    {
     "data": {
      "image/png": "[encoded data removed]",
      "text/plain": [
       "<Figure size 432x288 with 4 Axes>"
      ]
     },
     "metadata": {
      "needs_background": "light"
     },
     "output_type": "display_data"
    }
   ],
   "source": [
    "#report Mean Absolute error of residuals\n",
    "residuals = results_object.resid()\n",
    "mae = np.mean(np.abs(residuals))\n",
    "print(f'The mean absolute error of the model is {mae}')\n",
    "#lastly we want to evaluate that residuals are uncorelated to our predictions to ensure a sound model\n",
    "#plot diagnositics to check \n",
    "results_object.plot_diagnostics()\n",
    "plt.show()\n",
    "#standard residuals should have no pattern\n",
    "#qq plot should follow the line to should residuals are normally distributed \n",
    "# hist and correlogram I dont use as much but show distribution and significance \n",
    "#graphs show a little skewed distribution of the error. \n",
    "#Suggesting there is some model improvement we can make"
   ]
  }
 ],
 "metadata": {
  "interpreter": {
   "hash": "31f2aee4e71d21fbe5cf8b01ff0e069b9275f58929596ceb00d14d90e3e16cd6"
  },
  "kernelspec": {
   "display_name": "Python 3.8.9 64-bit",
   "language": "python",
   "name": "python3"
  },
  "language_info": {
   "codemirror_mode": {
    "name": "ipython",
    "version": 3
   },
   "file_extension": ".py",
   "mimetype": "text/x-python",
   "name": "python",
   "nbconvert_exporter": "python",
   "pygments_lexer": "ipython3",
   "version": "3.8.9"
  },
  "orig_nbformat": 4
 },
 "nbformat": 4,
 "nbformat_minor": 2
}
